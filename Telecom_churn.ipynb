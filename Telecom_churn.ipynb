{
 "cells": [
  {
   "cell_type": "code",
   "execution_count": 105,
   "metadata": {},
   "outputs": [],
   "source": [
    "import numpy as np\n",
    "import pandas as pd\n",
    "import matplotlib.pyplot as plt\n",
    "import seaborn as sns\n",
    "from sklearn.model_selection import train_test_split,KFold \n",
    "from sklearn import svm\n",
    "from sklearn.metrics import mean_squared_error"
   ]
  },
  {
   "cell_type": "code",
   "execution_count": 106,
   "metadata": {
    "_cell_guid": "79c7e3d0-c299-4dcb-8224-4455121ee9b0",
    "_uuid": "d629ff2d2480ee46fbb7e2d37f6b5fab8052498a"
   },
   "outputs": [
    {
     "data": {
      "text/html": [
       "<div>\n",
       "<style scoped>\n",
       "    .dataframe tbody tr th:only-of-type {\n",
       "        vertical-align: middle;\n",
       "    }\n",
       "\n",
       "    .dataframe tbody tr th {\n",
       "        vertical-align: top;\n",
       "    }\n",
       "\n",
       "    .dataframe thead th {\n",
       "        text-align: right;\n",
       "    }\n",
       "</style>\n",
       "<table border=\"1\" class=\"dataframe\">\n",
       "  <thead>\n",
       "    <tr style=\"text-align: right;\">\n",
       "      <th></th>\n",
       "      <th>customerID</th>\n",
       "      <th>gender</th>\n",
       "      <th>SeniorCitizen</th>\n",
       "      <th>Partner</th>\n",
       "      <th>Dependents</th>\n",
       "      <th>tenure</th>\n",
       "      <th>PhoneService</th>\n",
       "      <th>MultipleLines</th>\n",
       "      <th>InternetService</th>\n",
       "      <th>OnlineSecurity</th>\n",
       "      <th>OnlineBackup</th>\n",
       "      <th>DeviceProtection</th>\n",
       "      <th>TechSupport</th>\n",
       "      <th>StreamingTV</th>\n",
       "      <th>StreamingMovies</th>\n",
       "      <th>Contract</th>\n",
       "      <th>PaperlessBilling</th>\n",
       "      <th>PaymentMethod</th>\n",
       "      <th>MonthlyCharges</th>\n",
       "      <th>TotalCharges</th>\n",
       "      <th>Churn</th>\n",
       "    </tr>\n",
       "  </thead>\n",
       "  <tbody>\n",
       "    <tr>\n",
       "      <th>0</th>\n",
       "      <td>7590-VHVEG</td>\n",
       "      <td>Female</td>\n",
       "      <td>0</td>\n",
       "      <td>Yes</td>\n",
       "      <td>No</td>\n",
       "      <td>1</td>\n",
       "      <td>No</td>\n",
       "      <td>No phone service</td>\n",
       "      <td>DSL</td>\n",
       "      <td>No</td>\n",
       "      <td>Yes</td>\n",
       "      <td>No</td>\n",
       "      <td>No</td>\n",
       "      <td>No</td>\n",
       "      <td>No</td>\n",
       "      <td>Month-to-month</td>\n",
       "      <td>Yes</td>\n",
       "      <td>Electronic check</td>\n",
       "      <td>29.85</td>\n",
       "      <td>29.85</td>\n",
       "      <td>No</td>\n",
       "    </tr>\n",
       "    <tr>\n",
       "      <th>1</th>\n",
       "      <td>5575-GNVDE</td>\n",
       "      <td>Male</td>\n",
       "      <td>0</td>\n",
       "      <td>No</td>\n",
       "      <td>No</td>\n",
       "      <td>34</td>\n",
       "      <td>Yes</td>\n",
       "      <td>No</td>\n",
       "      <td>DSL</td>\n",
       "      <td>Yes</td>\n",
       "      <td>No</td>\n",
       "      <td>Yes</td>\n",
       "      <td>No</td>\n",
       "      <td>No</td>\n",
       "      <td>No</td>\n",
       "      <td>One year</td>\n",
       "      <td>No</td>\n",
       "      <td>Mailed check</td>\n",
       "      <td>56.95</td>\n",
       "      <td>1889.5</td>\n",
       "      <td>No</td>\n",
       "    </tr>\n",
       "    <tr>\n",
       "      <th>2</th>\n",
       "      <td>3668-QPYBK</td>\n",
       "      <td>Male</td>\n",
       "      <td>0</td>\n",
       "      <td>No</td>\n",
       "      <td>No</td>\n",
       "      <td>2</td>\n",
       "      <td>Yes</td>\n",
       "      <td>No</td>\n",
       "      <td>DSL</td>\n",
       "      <td>Yes</td>\n",
       "      <td>Yes</td>\n",
       "      <td>No</td>\n",
       "      <td>No</td>\n",
       "      <td>No</td>\n",
       "      <td>No</td>\n",
       "      <td>Month-to-month</td>\n",
       "      <td>Yes</td>\n",
       "      <td>Mailed check</td>\n",
       "      <td>53.85</td>\n",
       "      <td>108.15</td>\n",
       "      <td>Yes</td>\n",
       "    </tr>\n",
       "    <tr>\n",
       "      <th>3</th>\n",
       "      <td>7795-CFOCW</td>\n",
       "      <td>Male</td>\n",
       "      <td>0</td>\n",
       "      <td>No</td>\n",
       "      <td>No</td>\n",
       "      <td>45</td>\n",
       "      <td>No</td>\n",
       "      <td>No phone service</td>\n",
       "      <td>DSL</td>\n",
       "      <td>Yes</td>\n",
       "      <td>No</td>\n",
       "      <td>Yes</td>\n",
       "      <td>Yes</td>\n",
       "      <td>No</td>\n",
       "      <td>No</td>\n",
       "      <td>One year</td>\n",
       "      <td>No</td>\n",
       "      <td>Bank transfer (automatic)</td>\n",
       "      <td>42.30</td>\n",
       "      <td>1840.75</td>\n",
       "      <td>No</td>\n",
       "    </tr>\n",
       "    <tr>\n",
       "      <th>4</th>\n",
       "      <td>9237-HQITU</td>\n",
       "      <td>Female</td>\n",
       "      <td>0</td>\n",
       "      <td>No</td>\n",
       "      <td>No</td>\n",
       "      <td>2</td>\n",
       "      <td>Yes</td>\n",
       "      <td>No</td>\n",
       "      <td>Fiber optic</td>\n",
       "      <td>No</td>\n",
       "      <td>No</td>\n",
       "      <td>No</td>\n",
       "      <td>No</td>\n",
       "      <td>No</td>\n",
       "      <td>No</td>\n",
       "      <td>Month-to-month</td>\n",
       "      <td>Yes</td>\n",
       "      <td>Electronic check</td>\n",
       "      <td>70.70</td>\n",
       "      <td>151.65</td>\n",
       "      <td>Yes</td>\n",
       "    </tr>\n",
       "  </tbody>\n",
       "</table>\n",
       "</div>"
      ],
      "text/plain": [
       "   customerID  gender  SeniorCitizen Partner Dependents  tenure PhoneService  \\\n",
       "0  7590-VHVEG  Female              0     Yes         No       1           No   \n",
       "1  5575-GNVDE    Male              0      No         No      34          Yes   \n",
       "2  3668-QPYBK    Male              0      No         No       2          Yes   \n",
       "3  7795-CFOCW    Male              0      No         No      45           No   \n",
       "4  9237-HQITU  Female              0      No         No       2          Yes   \n",
       "\n",
       "      MultipleLines InternetService OnlineSecurity OnlineBackup  \\\n",
       "0  No phone service             DSL             No          Yes   \n",
       "1                No             DSL            Yes           No   \n",
       "2                No             DSL            Yes          Yes   \n",
       "3  No phone service             DSL            Yes           No   \n",
       "4                No     Fiber optic             No           No   \n",
       "\n",
       "  DeviceProtection TechSupport StreamingTV StreamingMovies        Contract  \\\n",
       "0               No          No          No              No  Month-to-month   \n",
       "1              Yes          No          No              No        One year   \n",
       "2               No          No          No              No  Month-to-month   \n",
       "3              Yes         Yes          No              No        One year   \n",
       "4               No          No          No              No  Month-to-month   \n",
       "\n",
       "  PaperlessBilling              PaymentMethod  MonthlyCharges TotalCharges  \\\n",
       "0              Yes           Electronic check           29.85        29.85   \n",
       "1               No               Mailed check           56.95       1889.5   \n",
       "2              Yes               Mailed check           53.85       108.15   \n",
       "3               No  Bank transfer (automatic)           42.30      1840.75   \n",
       "4              Yes           Electronic check           70.70       151.65   \n",
       "\n",
       "  Churn  \n",
       "0    No  \n",
       "1    No  \n",
       "2   Yes  \n",
       "3    No  \n",
       "4   Yes  "
      ]
     },
     "execution_count": 106,
     "metadata": {},
     "output_type": "execute_result"
    }
   ],
   "source": [
    "pd.set_option('display.max_columns', None)\n",
    "churn = pd.read_csv('WA_Fn-UseC_-Telco-Customer-Churn.csv')\n",
    "churn.head()"
   ]
  },
  {
   "cell_type": "code",
   "execution_count": 107,
   "metadata": {},
   "outputs": [
    {
     "name": "stdout",
     "output_type": "stream",
     "text": [
      "<class 'pandas.core.frame.DataFrame'>\n",
      "RangeIndex: 7043 entries, 0 to 7042\n",
      "Data columns (total 21 columns):\n",
      "customerID          7043 non-null object\n",
      "gender              7043 non-null object\n",
      "SeniorCitizen       7043 non-null int64\n",
      "Partner             7043 non-null object\n",
      "Dependents          7043 non-null object\n",
      "tenure              7043 non-null int64\n",
      "PhoneService        7043 non-null object\n",
      "MultipleLines       7043 non-null object\n",
      "InternetService     7043 non-null object\n",
      "OnlineSecurity      7043 non-null object\n",
      "OnlineBackup        7043 non-null object\n",
      "DeviceProtection    7043 non-null object\n",
      "TechSupport         7043 non-null object\n",
      "StreamingTV         7043 non-null object\n",
      "StreamingMovies     7043 non-null object\n",
      "Contract            7043 non-null object\n",
      "PaperlessBilling    7043 non-null object\n",
      "PaymentMethod       7043 non-null object\n",
      "MonthlyCharges      7043 non-null float64\n",
      "TotalCharges        7043 non-null object\n",
      "Churn               7043 non-null object\n",
      "dtypes: float64(1), int64(2), object(18)\n",
      "memory usage: 1.1+ MB\n"
     ]
    }
   ],
   "source": [
    "churn.info()"
   ]
  },
  {
   "cell_type": "code",
   "execution_count": 108,
   "metadata": {},
   "outputs": [
    {
     "data": {
      "text/html": [
       "<div>\n",
       "<style scoped>\n",
       "    .dataframe tbody tr th:only-of-type {\n",
       "        vertical-align: middle;\n",
       "    }\n",
       "\n",
       "    .dataframe tbody tr th {\n",
       "        vertical-align: top;\n",
       "    }\n",
       "\n",
       "    .dataframe thead th {\n",
       "        text-align: right;\n",
       "    }\n",
       "</style>\n",
       "<table border=\"1\" class=\"dataframe\">\n",
       "  <thead>\n",
       "    <tr style=\"text-align: right;\">\n",
       "      <th></th>\n",
       "      <th>count</th>\n",
       "      <th>mean</th>\n",
       "      <th>std</th>\n",
       "      <th>min</th>\n",
       "      <th>25%</th>\n",
       "      <th>50%</th>\n",
       "      <th>75%</th>\n",
       "      <th>max</th>\n",
       "    </tr>\n",
       "  </thead>\n",
       "  <tbody>\n",
       "    <tr>\n",
       "      <th>SeniorCitizen</th>\n",
       "      <td>7043.0</td>\n",
       "      <td>0.162147</td>\n",
       "      <td>0.368612</td>\n",
       "      <td>0.00</td>\n",
       "      <td>0.00</td>\n",
       "      <td>0.000</td>\n",
       "      <td>0.0000</td>\n",
       "      <td>1.00</td>\n",
       "    </tr>\n",
       "    <tr>\n",
       "      <th>tenure</th>\n",
       "      <td>7043.0</td>\n",
       "      <td>32.371149</td>\n",
       "      <td>24.559481</td>\n",
       "      <td>0.00</td>\n",
       "      <td>9.00</td>\n",
       "      <td>29.000</td>\n",
       "      <td>55.0000</td>\n",
       "      <td>72.00</td>\n",
       "    </tr>\n",
       "    <tr>\n",
       "      <th>MonthlyCharges</th>\n",
       "      <td>7043.0</td>\n",
       "      <td>64.761692</td>\n",
       "      <td>30.090047</td>\n",
       "      <td>18.25</td>\n",
       "      <td>35.50</td>\n",
       "      <td>70.350</td>\n",
       "      <td>89.8500</td>\n",
       "      <td>118.75</td>\n",
       "    </tr>\n",
       "    <tr>\n",
       "      <th>TotalCharges</th>\n",
       "      <td>7032.0</td>\n",
       "      <td>2283.300441</td>\n",
       "      <td>2266.771362</td>\n",
       "      <td>18.80</td>\n",
       "      <td>401.45</td>\n",
       "      <td>1397.475</td>\n",
       "      <td>3794.7375</td>\n",
       "      <td>8684.80</td>\n",
       "    </tr>\n",
       "  </tbody>\n",
       "</table>\n",
       "</div>"
      ],
      "text/plain": [
       "                 count         mean          std    min     25%       50%  \\\n",
       "SeniorCitizen   7043.0     0.162147     0.368612   0.00    0.00     0.000   \n",
       "tenure          7043.0    32.371149    24.559481   0.00    9.00    29.000   \n",
       "MonthlyCharges  7043.0    64.761692    30.090047  18.25   35.50    70.350   \n",
       "TotalCharges    7032.0  2283.300441  2266.771362  18.80  401.45  1397.475   \n",
       "\n",
       "                      75%      max  \n",
       "SeniorCitizen      0.0000     1.00  \n",
       "tenure            55.0000    72.00  \n",
       "MonthlyCharges    89.8500   118.75  \n",
       "TotalCharges    3794.7375  8684.80  "
      ]
     },
     "execution_count": 108,
     "metadata": {},
     "output_type": "execute_result"
    }
   ],
   "source": [
    "churn['TotalCharges'] = pd.to_numeric(churn['TotalCharges'],errors='coerce')\n",
    "churn.describe().T"
   ]
  },
  {
   "cell_type": "code",
   "execution_count": 109,
   "metadata": {},
   "outputs": [
    {
     "data": {
      "text/plain": [
       "TotalCharges        0.156183\n",
       "Churn               0.000000\n",
       "OnlineSecurity      0.000000\n",
       "gender              0.000000\n",
       "SeniorCitizen       0.000000\n",
       "Partner             0.000000\n",
       "Dependents          0.000000\n",
       "tenure              0.000000\n",
       "PhoneService        0.000000\n",
       "MultipleLines       0.000000\n",
       "InternetService     0.000000\n",
       "OnlineBackup        0.000000\n",
       "DeviceProtection    0.000000\n",
       "TechSupport         0.000000\n",
       "StreamingTV         0.000000\n",
       "StreamingMovies     0.000000\n",
       "Contract            0.000000\n",
       "PaperlessBilling    0.000000\n",
       "PaymentMethod       0.000000\n",
       "MonthlyCharges      0.000000\n",
       "customerID          0.000000\n",
       "dtype: float64"
      ]
     },
     "execution_count": 109,
     "metadata": {},
     "output_type": "execute_result"
    }
   ],
   "source": [
    "churn.isnull().sum().sort_values(ascending = False)/len(churn)*100"
   ]
  },
  {
   "cell_type": "code",
   "execution_count": 110,
   "metadata": {},
   "outputs": [
    {
     "data": {
      "text/plain": [
       "0"
      ]
     },
     "execution_count": 110,
     "metadata": {},
     "output_type": "execute_result"
    }
   ],
   "source": [
    "churn['TotalCharges'].fillna(value = churn['TotalCharges'].median(), inplace=True)\n",
    "churn['TotalCharges'].isnull().sum()"
   ]
  },
  {
   "cell_type": "code",
   "execution_count": 111,
   "metadata": {},
   "outputs": [],
   "source": [
    "converttoBinary={\n",
    "    'Yes' : 1,\n",
    "    'No' : 0,\n",
    "    'No internet service' : 0,\n",
    "    'No phone service' : 0\n",
    "}\n",
    "\n",
    "replaceFeatureVal = ['Partner','Dependents','PhoneService','PaperlessBilling','Churn', 'OnlineSecurity', \n",
    "                    'OnlineBackup','DeviceProtection', 'TechSupport', 'StreamingTV', 'StreamingMovies']\n",
    "for i in replaceFeatureVal:\n",
    "    churn[i] = churn[i].map(converttoBinary)"
   ]
  },
  {
   "cell_type": "code",
   "execution_count": 112,
   "metadata": {},
   "outputs": [],
   "source": [
    "churn['MultipleLines'] = np.where(churn.MultipleLines == 'Yes', 1, 0)\n",
    "churn['InternetDSL'] = np.where(churn.InternetService == 'DSL', 1, 0)\n",
    "churn['InternetFiber'] = np.where(churn.InternetService == 'Fiber optic', 1, 0)\n",
    "churn['Female'] = np.where(churn.gender == 'Female', 1, 0)\n",
    "churn['OneYrContract'] = np.where(churn.Contract == 'One year', 1, 0)\n",
    "churn['TwoYrContract'] = np.where(churn.Contract == 'Two year', 1, 0)"
   ]
  },
  {
   "cell_type": "code",
   "execution_count": 113,
   "metadata": {},
   "outputs": [
    {
     "data": {
      "text/html": [
       "<div>\n",
       "<style scoped>\n",
       "    .dataframe tbody tr th:only-of-type {\n",
       "        vertical-align: middle;\n",
       "    }\n",
       "\n",
       "    .dataframe tbody tr th {\n",
       "        vertical-align: top;\n",
       "    }\n",
       "\n",
       "    .dataframe thead th {\n",
       "        text-align: right;\n",
       "    }\n",
       "</style>\n",
       "<table border=\"1\" class=\"dataframe\">\n",
       "  <thead>\n",
       "    <tr style=\"text-align: right;\">\n",
       "      <th></th>\n",
       "      <th>customerID</th>\n",
       "      <th>gender</th>\n",
       "      <th>SeniorCitizen</th>\n",
       "      <th>Partner</th>\n",
       "      <th>Dependents</th>\n",
       "      <th>tenure</th>\n",
       "      <th>PhoneService</th>\n",
       "      <th>MultipleLines</th>\n",
       "      <th>InternetService</th>\n",
       "      <th>OnlineSecurity</th>\n",
       "      <th>OnlineBackup</th>\n",
       "      <th>DeviceProtection</th>\n",
       "      <th>TechSupport</th>\n",
       "      <th>StreamingTV</th>\n",
       "      <th>StreamingMovies</th>\n",
       "      <th>Contract</th>\n",
       "      <th>PaperlessBilling</th>\n",
       "      <th>PaymentMethod</th>\n",
       "      <th>MonthlyCharges</th>\n",
       "      <th>TotalCharges</th>\n",
       "      <th>Churn</th>\n",
       "      <th>InternetDSL</th>\n",
       "      <th>InternetFiber</th>\n",
       "      <th>Female</th>\n",
       "      <th>OneYrContract</th>\n",
       "      <th>TwoYrContract</th>\n",
       "    </tr>\n",
       "  </thead>\n",
       "  <tbody>\n",
       "    <tr>\n",
       "      <th>0</th>\n",
       "      <td>7590-VHVEG</td>\n",
       "      <td>Female</td>\n",
       "      <td>0</td>\n",
       "      <td>1</td>\n",
       "      <td>0</td>\n",
       "      <td>1</td>\n",
       "      <td>0</td>\n",
       "      <td>0</td>\n",
       "      <td>DSL</td>\n",
       "      <td>0</td>\n",
       "      <td>1</td>\n",
       "      <td>0</td>\n",
       "      <td>0</td>\n",
       "      <td>0</td>\n",
       "      <td>0</td>\n",
       "      <td>Month-to-month</td>\n",
       "      <td>1</td>\n",
       "      <td>Electronic check</td>\n",
       "      <td>29.85</td>\n",
       "      <td>29.85</td>\n",
       "      <td>0</td>\n",
       "      <td>1</td>\n",
       "      <td>0</td>\n",
       "      <td>1</td>\n",
       "      <td>0</td>\n",
       "      <td>0</td>\n",
       "    </tr>\n",
       "    <tr>\n",
       "      <th>1</th>\n",
       "      <td>5575-GNVDE</td>\n",
       "      <td>Male</td>\n",
       "      <td>0</td>\n",
       "      <td>0</td>\n",
       "      <td>0</td>\n",
       "      <td>34</td>\n",
       "      <td>1</td>\n",
       "      <td>0</td>\n",
       "      <td>DSL</td>\n",
       "      <td>1</td>\n",
       "      <td>0</td>\n",
       "      <td>1</td>\n",
       "      <td>0</td>\n",
       "      <td>0</td>\n",
       "      <td>0</td>\n",
       "      <td>One year</td>\n",
       "      <td>0</td>\n",
       "      <td>Mailed check</td>\n",
       "      <td>56.95</td>\n",
       "      <td>1889.50</td>\n",
       "      <td>0</td>\n",
       "      <td>1</td>\n",
       "      <td>0</td>\n",
       "      <td>0</td>\n",
       "      <td>1</td>\n",
       "      <td>0</td>\n",
       "    </tr>\n",
       "    <tr>\n",
       "      <th>2</th>\n",
       "      <td>3668-QPYBK</td>\n",
       "      <td>Male</td>\n",
       "      <td>0</td>\n",
       "      <td>0</td>\n",
       "      <td>0</td>\n",
       "      <td>2</td>\n",
       "      <td>1</td>\n",
       "      <td>0</td>\n",
       "      <td>DSL</td>\n",
       "      <td>1</td>\n",
       "      <td>1</td>\n",
       "      <td>0</td>\n",
       "      <td>0</td>\n",
       "      <td>0</td>\n",
       "      <td>0</td>\n",
       "      <td>Month-to-month</td>\n",
       "      <td>1</td>\n",
       "      <td>Mailed check</td>\n",
       "      <td>53.85</td>\n",
       "      <td>108.15</td>\n",
       "      <td>1</td>\n",
       "      <td>1</td>\n",
       "      <td>0</td>\n",
       "      <td>0</td>\n",
       "      <td>0</td>\n",
       "      <td>0</td>\n",
       "    </tr>\n",
       "    <tr>\n",
       "      <th>3</th>\n",
       "      <td>7795-CFOCW</td>\n",
       "      <td>Male</td>\n",
       "      <td>0</td>\n",
       "      <td>0</td>\n",
       "      <td>0</td>\n",
       "      <td>45</td>\n",
       "      <td>0</td>\n",
       "      <td>0</td>\n",
       "      <td>DSL</td>\n",
       "      <td>1</td>\n",
       "      <td>0</td>\n",
       "      <td>1</td>\n",
       "      <td>1</td>\n",
       "      <td>0</td>\n",
       "      <td>0</td>\n",
       "      <td>One year</td>\n",
       "      <td>0</td>\n",
       "      <td>Bank transfer (automatic)</td>\n",
       "      <td>42.30</td>\n",
       "      <td>1840.75</td>\n",
       "      <td>0</td>\n",
       "      <td>1</td>\n",
       "      <td>0</td>\n",
       "      <td>0</td>\n",
       "      <td>1</td>\n",
       "      <td>0</td>\n",
       "    </tr>\n",
       "    <tr>\n",
       "      <th>4</th>\n",
       "      <td>9237-HQITU</td>\n",
       "      <td>Female</td>\n",
       "      <td>0</td>\n",
       "      <td>0</td>\n",
       "      <td>0</td>\n",
       "      <td>2</td>\n",
       "      <td>1</td>\n",
       "      <td>0</td>\n",
       "      <td>Fiber optic</td>\n",
       "      <td>0</td>\n",
       "      <td>0</td>\n",
       "      <td>0</td>\n",
       "      <td>0</td>\n",
       "      <td>0</td>\n",
       "      <td>0</td>\n",
       "      <td>Month-to-month</td>\n",
       "      <td>1</td>\n",
       "      <td>Electronic check</td>\n",
       "      <td>70.70</td>\n",
       "      <td>151.65</td>\n",
       "      <td>1</td>\n",
       "      <td>0</td>\n",
       "      <td>1</td>\n",
       "      <td>1</td>\n",
       "      <td>0</td>\n",
       "      <td>0</td>\n",
       "    </tr>\n",
       "  </tbody>\n",
       "</table>\n",
       "</div>"
      ],
      "text/plain": [
       "   customerID  gender  SeniorCitizen  Partner  Dependents  tenure  \\\n",
       "0  7590-VHVEG  Female              0        1           0       1   \n",
       "1  5575-GNVDE    Male              0        0           0      34   \n",
       "2  3668-QPYBK    Male              0        0           0       2   \n",
       "3  7795-CFOCW    Male              0        0           0      45   \n",
       "4  9237-HQITU  Female              0        0           0       2   \n",
       "\n",
       "   PhoneService  MultipleLines InternetService  OnlineSecurity  OnlineBackup  \\\n",
       "0             0              0             DSL               0             1   \n",
       "1             1              0             DSL               1             0   \n",
       "2             1              0             DSL               1             1   \n",
       "3             0              0             DSL               1             0   \n",
       "4             1              0     Fiber optic               0             0   \n",
       "\n",
       "   DeviceProtection  TechSupport  StreamingTV  StreamingMovies  \\\n",
       "0                 0            0            0                0   \n",
       "1                 1            0            0                0   \n",
       "2                 0            0            0                0   \n",
       "3                 1            1            0                0   \n",
       "4                 0            0            0                0   \n",
       "\n",
       "         Contract  PaperlessBilling              PaymentMethod  \\\n",
       "0  Month-to-month                 1           Electronic check   \n",
       "1        One year                 0               Mailed check   \n",
       "2  Month-to-month                 1               Mailed check   \n",
       "3        One year                 0  Bank transfer (automatic)   \n",
       "4  Month-to-month                 1           Electronic check   \n",
       "\n",
       "   MonthlyCharges  TotalCharges  Churn  InternetDSL  InternetFiber  Female  \\\n",
       "0           29.85         29.85      0            1              0       1   \n",
       "1           56.95       1889.50      0            1              0       0   \n",
       "2           53.85        108.15      1            1              0       0   \n",
       "3           42.30       1840.75      0            1              0       0   \n",
       "4           70.70        151.65      1            0              1       1   \n",
       "\n",
       "   OneYrContract  TwoYrContract  \n",
       "0              0              0  \n",
       "1              1              0  \n",
       "2              0              0  \n",
       "3              1              0  \n",
       "4              0              0  "
      ]
     },
     "execution_count": 113,
     "metadata": {},
     "output_type": "execute_result"
    }
   ],
   "source": [
    "churn.head()"
   ]
  },
  {
   "cell_type": "code",
   "execution_count": 114,
   "metadata": {},
   "outputs": [],
   "source": [
    "x = churn.drop(['customerID','gender','InternetService','Contract','PaymentMethod','Churn'], axis = 1)\n",
    "y = churn['Churn']"
   ]
  },
  {
   "cell_type": "code",
   "execution_count": 115,
   "metadata": {},
   "outputs": [
    {
     "data": {
      "image/png": "[encoded data removed]",
      "text/plain": [
       "<Figure size 864x1152 with 20 Axes>"
      ]
     },
     "metadata": {
      "needs_background": "light"
     },
     "output_type": "display_data"
    }
   ],
   "source": [
    "x.hist(bins = 20 , figsize= (12,16));"
   ]
  },
  {
   "cell_type": "code",
   "execution_count": 117,
   "metadata": {},
   "outputs": [
    {
     "name": "stdout",
     "output_type": "stream",
     "text": [
      "<class 'pandas.core.frame.DataFrame'>\n",
      "RangeIndex: 7043 entries, 0 to 7042\n",
      "Data columns (total 20 columns):\n",
      "SeniorCitizen       7043 non-null int64\n",
      "Partner             7043 non-null int64\n",
      "Dependents          7043 non-null int64\n",
      "tenure              7043 non-null int64\n",
      "PhoneService        7043 non-null int64\n",
      "MultipleLines       7043 non-null int32\n",
      "OnlineSecurity      7043 non-null int64\n",
      "OnlineBackup        7043 non-null int64\n",
      "DeviceProtection    7043 non-null int64\n",
      "TechSupport         7043 non-null int64\n",
      "StreamingTV         7043 non-null int64\n",
      "StreamingMovies     7043 non-null int64\n",
      "PaperlessBilling    7043 non-null int64\n",
      "MonthlyCharges      7043 non-null float64\n",
      "TotalCharges        7043 non-null float64\n",
      "InternetDSL         7043 non-null int32\n",
      "InternetFiber       7043 non-null int32\n",
      "Female              7043 non-null int32\n",
      "OneYrContract       7043 non-null int32\n",
      "TwoYrContract       7043 non-null int32\n",
      "dtypes: float64(2), int32(6), int64(12)\n",
      "memory usage: 935.5 KB\n"
     ]
    }
   ],
   "source": [
    "x.info()"
   ]
  },
  {
   "cell_type": "code",
   "execution_count": 118,
   "metadata": {},
   "outputs": [],
   "source": [
    "from sklearn.preprocessing import MinMaxScaler\n",
    "scaler = MinMaxScaler(feature_range=(0, 1))\n",
    "x = pd.DataFrame(scaler.fit_transform(x))"
   ]
  },
  {
   "cell_type": "code",
   "execution_count": 280,
   "metadata": {},
   "outputs": [],
   "source": [
    "test_size_list = [0.99,0.8,0.7,0.5,0.4,0.3,0.2]\n",
    "training_set_size=[]\n",
    "train_mse=[]\n",
    "test_mse=[]\n",
    "for test_size in test_size_list:\n",
    "    X_train, X_test, y_train, y_test = train_test_split(x, y, test_size= test_size, random_state=123)\n",
    "    linear_svc = svm.SVC(kernel='linear')\n",
    "    linear_svc.fit(X_train,y_train)\n",
    "    y_pred = linear_svc.predict(X_train)\n",
    "    train_mse.append(mean_squared_error(y_train, y_pred))\n",
    "    y_pred = linear_svc.predict(X_test)\n",
    "    test_mse.append(mean_squared_error(y_test, y_pred))\n",
    "    training_set_size.append(len(X_train))"
   ]
  },
  {
   "cell_type": "code",
   "execution_count": 282,
   "metadata": {},
   "outputs": [
    {
     "data": {
      "text/plain": [
       "[70, 1408, 2112, 3521, 4225, 4930, 5634]"
      ]
     },
     "execution_count": 282,
     "metadata": {},
     "output_type": "execute_result"
    }
   ],
   "source": [
    "training_set_size"
   ]
  },
  {
   "cell_type": "code",
   "execution_count": 281,
   "metadata": {},
   "outputs": [
    {
     "data": {
      "image/png": "[encoded data removed]",
      "text/plain": [
       "<Figure size 576x432 with 1 Axes>"
      ]
     },
     "metadata": {},
     "output_type": "display_data"
    }
   ],
   "source": [
    "import matplotlib.patches as mpatches\n",
    "plt.figure(figsize=(8,6))\n",
    "plt.style.use('seaborn')\n",
    "plt.plot(training_set_size, train_mse, color = \"blue\") \n",
    "plt.plot(training_set_size, test_mse, color = \"green\") \n",
    "plt.xlabel(\"Training Set\") \n",
    "plt.ylabel(\"MSE\")\n",
    "trainlegend = mpatches.Patch(color='blue', label='Train MSE')\n",
    "testlegend = mpatches.Patch(color='green', label='Test MSE')\n",
    "plt.legend([trainlegend, testlegend], ['Train MSE', 'Test MSE'])\n",
    "plt.show() "
   ]
  },
  {
   "cell_type": "code",
   "execution_count": 276,
   "metadata": {},
   "outputs": [
    {
     "name": "stdout",
     "output_type": "stream",
     "text": [
      "The accuracy of the linear SVM is 79.36%\n"
     ]
    }
   ],
   "source": [
    "X_train, X_test, y_train, y_test = train_test_split(x, y, test_size= 0.1, random_state=123)\n",
    "linear_svc = svm.SVC(kernel='linear')\n",
    "val_acc = []\n",
    "kf = KFold(n_splits=5)\n",
    "for train_index, val_index in kf.split(X_train):\n",
    "    linear_svc.fit(X_train.iloc[train_index], y_train.iloc[train_index])\n",
    "    val_acc.append(linear_svc.score(X_train.iloc[val_index],y_train.iloc[val_index]))\n",
    "accuracy = sum(val_acc)/len(val_acc)*100\n",
    "print(\"The accuracy of the linear SVM is {0:.2f}%\".format(accuracy))"
   ]
  },
  {
   "cell_type": "code",
   "execution_count": 283,
   "metadata": {},
   "outputs": [],
   "source": [
    "test_size_list = [0.99,0.8,0.7,0.5,0.4,0.3,0.2]\n",
    "training_set_size=[]\n",
    "train_mse=[]\n",
    "test_mse=[]\n",
    "for test_size in test_size_list:\n",
    "    X_train, X_test, y_train, y_test = train_test_split(x, y, test_size= test_size, random_state=123)\n",
    "    sigmoid_svc = svm.SVC(kernel='sigmoid', gamma = 'auto')\n",
    "    sigmoid_svc.fit(X_train,y_train)\n",
    "    y_pred = sigmoid_svc.predict(X_train)\n",
    "    train_mse.append(mean_squared_error(y_train, y_pred))\n",
    "    y_pred = sigmoid_svc.predict(X_test)\n",
    "    test_mse.append(mean_squared_error(y_test, y_pred))\n",
    "    training_set_size.append(len(X_train))"
   ]
  },
  {
   "cell_type": "code",
   "execution_count": 284,
   "metadata": {},
   "outputs": [
    {
     "data": {
      "image/png": "[encoded data removed]",
      "text/plain": [
       "<Figure size 576x432 with 1 Axes>"
      ]
     },
     "metadata": {},
     "output_type": "display_data"
    }
   ],
   "source": [
    "plt.figure(figsize=(8,6))\n",
    "plt.style.use('seaborn')\n",
    "plt.plot(training_set_size, train_mse, color = \"blue\") \n",
    "plt.plot(training_set_size, test_mse, color = \"green\") \n",
    "plt.xlabel(\"Training Set\") \n",
    "plt.ylabel(\"MSE\")\n",
    "trainlegend = mpatches.Patch(color='blue', label='Train MSE')\n",
    "testlegend = mpatches.Patch(color='green', label='Test MSE')\n",
    "plt.legend([trainlegend, testlegend], ['Train MSE', 'Test MSE'])\n",
    "plt.show() "
   ]
  },
  {
   "cell_type": "code",
   "execution_count": 275,
   "metadata": {},
   "outputs": [
    {
     "name": "stdout",
     "output_type": "stream",
     "text": [
      "The accuracy of the SVM with sigmoid kernal is 79.73%\n"
     ]
    }
   ],
   "source": [
    "X_train, X_test, y_train, y_test = train_test_split(x, y, test_size= 0.1, random_state=123)\n",
    "sigmoid_svc = svm.SVC(kernel='sigmoid', gamma = 'auto')\n",
    "val_acc = []\n",
    "kf = KFold(n_splits=5)\n",
    "for train_index, val_index in kf.split(X_train):\n",
    "    sigmoid_svc.fit(X_train.iloc[train_index], y_train.iloc[train_index])\n",
    "    val_acc.append(sigmoid_svc.score(X_train.iloc[val_index],y_train.iloc[val_index]))\n",
    "accuracy = sum(val_acc)/len(val_acc)*100\n",
    "print(\"The accuracy of the SVM with sigmoid kernal is {0:.2f}%\".format(accuracy))"
   ]
  },
  {
   "cell_type": "code",
   "execution_count": 285,
   "metadata": {},
   "outputs": [],
   "source": [
    "test_size_list = [0.99,0.8,0.7,0.5,0.4,0.3,0.2]\n",
    "training_set_size=[]\n",
    "train_mse=[]\n",
    "test_mse=[]\n",
    "for test_size in test_size_list:\n",
    "    X_train, X_test, y_train, y_test = train_test_split(x, y, test_size= test_size, random_state=123)\n",
    "    rbf_svc = svm.SVC(kernel='rbf', gamma = 'auto')\n",
    "    rbf_svc.fit(X_train,y_train)\n",
    "    y_pred = rbf_svc.predict(X_train)\n",
    "    train_mse.append(mean_squared_error(y_train, y_pred))\n",
    "    y_pred = rbf_svc.predict(X_test)\n",
    "    test_mse.append(mean_squared_error(y_test, y_pred))\n",
    "    training_set_size.append(len(X_train))"
   ]
  },
  {
   "cell_type": "code",
   "execution_count": 286,
   "metadata": {},
   "outputs": [
    {
     "data": {
      "image/png": "[encoded data removed]",
      "text/plain": [
       "<Figure size 576x432 with 1 Axes>"
      ]
     },
     "metadata": {},
     "output_type": "display_data"
    }
   ],
   "source": [
    "plt.figure(figsize=(8,6))\n",
    "plt.style.use('seaborn')\n",
    "plt.plot(training_set_size, train_mse, color = \"blue\") \n",
    "plt.plot(training_set_size, test_mse, color = \"green\") \n",
    "plt.xlabel(\"Training Set\") \n",
    "plt.ylabel(\"MSE\")\n",
    "trainlegend = mpatches.Patch(color='blue', label='Train MSE')\n",
    "testlegend = mpatches.Patch(color='green', label='Test MSE')\n",
    "plt.legend([trainlegend, testlegend], ['Train MSE', 'Test MSE'])\n",
    "plt.show() "
   ]
  },
  {
   "cell_type": "code",
   "execution_count": 274,
   "metadata": {},
   "outputs": [
    {
     "name": "stdout",
     "output_type": "stream",
     "text": [
      "The accuracy of the SVM with rbf kernal is 79.36%\n"
     ]
    }
   ],
   "source": [
    "X_train, X_test, y_train, y_test = train_test_split(x, y, test_size= 0.1, random_state=123)\n",
    "rbf_svc = svm.SVC(kernel='rbf', gamma = 'auto')\n",
    "val_acc = []\n",
    "kf = KFold(n_splits=5)\n",
    "for train_index, val_index in kf.split(X_train):\n",
    "    rbf_svc.fit(X_train.iloc[train_index], y_train.iloc[train_index])\n",
    "    val_acc.append(rbf_svc.score(X_train.iloc[val_index],y_train.iloc[val_index]))\n",
    "accuracy = sum(val_acc)/len(val_acc)*100\n",
    "print(\"The accuracy of the SVM with rbf kernal is {0:.2f}%\".format(accuracy))"
   ]
  },
  {
   "cell_type": "code",
   "execution_count": 277,
   "metadata": {},
   "outputs": [],
   "source": [
    "from sklearn.tree import DecisionTreeClassifier\n",
    "depth_list=[1,2,3,4,5,6,12,None]\n",
    "train_acc = []\n",
    "test_acc = []\n",
    "for i in depth_list:\n",
    "    dtree = DecisionTreeClassifier(max_depth = i)\n",
    "    dtree.fit(X_train,y_train)\n",
    "    train_acc.append(dtree.score(X_train,y_train))\n",
    "    test_acc.append(dtree.score(X_test,y_test))"
   ]
  },
  {
   "cell_type": "code",
   "execution_count": 278,
   "metadata": {},
   "outputs": [
    {
     "data": {
      "image/png": "[encoded data removed]",
      "text/plain": [
       "<Figure size 576x432 with 1 Axes>"
      ]
     },
     "metadata": {},
     "output_type": "display_data"
    }
   ],
   "source": [
    "depth_list[-1] = dtree.get_depth()\n",
    "plt.style.use('seaborn')\n",
    "plt.figure(figsize=(8,6))\n",
    "plt.plot(depth_list, train_acc, color = \"blue\") \n",
    "plt.plot(depth_list, test_acc, color = \"green\") \n",
    "plt.xlabel(\"Depth\") \n",
    "plt.ylabel(\"Accuracy\")\n",
    "trainlegend = mpatches.Patch(color='blue', label='Train Accuracy')\n",
    "testlegend = mpatches.Patch(color='green', label='Test Accuracy')\n",
    "plt.legend([trainlegend, testlegend], ['Train Accuracy', 'Test Accuracy'])\n",
    "plt.show() "
   ]
  },
  {
   "cell_type": "code",
   "execution_count": 287,
   "metadata": {},
   "outputs": [
    {
     "name": "stdout",
     "output_type": "stream",
     "text": [
      "The accuracy of the decision tree with depth 1 is 74.06%\n",
      "The accuracy of the decision tree with depth 2 is 79.27%\n",
      "The accuracy of the decision tree with depth 3 is 79.27%\n",
      "The accuracy of the decision tree with depth 4 is 79.43%\n",
      "The accuracy of the decision tree with depth 5 is 79.11%\n",
      "The accuracy of the decision tree with depth 6 is 78.03%\n",
      "The accuracy of the decision tree with depth 7 is 77.61%\n"
     ]
    }
   ],
   "source": [
    "X_train, X_test, y_train, y_test = train_test_split(x, y, test_size= 0.3, random_state=123)\n",
    "depth_list=[1,2,3,4,5,6,7]\n",
    "for depth in depth_list:\n",
    "    dtree = DecisionTreeClassifier(max_depth = depth)\n",
    "    val_acc = []\n",
    "    kf = KFold(n_splits=5)\n",
    "    for train_index, val_index in kf.split(X_train):\n",
    "        dtree.fit(X_train.iloc[train_index], y_train.iloc[train_index])\n",
    "        val_acc.append(dtree.score(X_train.iloc[val_index],y_train.iloc[val_index]))\n",
    "    accuracy = sum(val_acc)/len(val_acc)*100\n",
    "    print(\"The accuracy of the decision tree with depth {0} is {1:.2f}%\".format(depth,accuracy))"
   ]
  },
  {
   "cell_type": "code",
   "execution_count": 290,
   "metadata": {},
   "outputs": [],
   "source": [
    "from sklearn.ensemble import GradientBoostingClassifier\n",
    "depth_list=[1,2,3,4,5,6,12]\n",
    "train_acc = []\n",
    "test_acc = []\n",
    "for i in depth_list:\n",
    "    gbc = GradientBoostingClassifier(learning_rate=1, n_estimators=50,max_depth=i,random_state=None)\n",
    "    gbc.fit(X_train,y_train)\n",
    "    train_acc.append(gbc.score(X_train,y_train))\n",
    "    test_acc.append(gbc.score(X_test,y_test))"
   ]
  },
  {
   "cell_type": "code",
   "execution_count": 291,
   "metadata": {},
   "outputs": [
    {
     "data": {
      "image/png": "[encoded data removed]",
      "text/plain": [
       "<Figure size 576x432 with 1 Axes>"
      ]
     },
     "metadata": {},
     "output_type": "display_data"
    }
   ],
   "source": [
    "plt.style.use('seaborn')\n",
    "plt.figure(figsize=(8,6))\n",
    "plt.plot(depth_list, train_acc, color = \"blue\") \n",
    "plt.plot(depth_list, test_acc, color = \"green\") \n",
    "plt.xlabel(\"Depth\") \n",
    "plt.ylabel(\"Accuracy\")\n",
    "trainlegend = mpatches.Patch(color='blue', label='Train Accuracy')\n",
    "testlegend = mpatches.Patch(color='green', label='Test Accuracy')\n",
    "plt.legend([trainlegend, testlegend], ['Train Accuracy', 'Test Accuracy'])\n",
    "plt.show() "
   ]
  },
  {
   "cell_type": "code",
   "execution_count": 212,
   "metadata": {},
   "outputs": [
    {
     "name": "stdout",
     "output_type": "stream",
     "text": [
      "The accuracy of the Gradient boosted tree with depth 1 is 80.32%\n",
      "The accuracy of the Gradient boosted tree with depth 2 is 78.86%\n",
      "The accuracy of the Gradient boosted tree with depth 5 is 76.25%\n",
      "The accuracy of the Gradient boosted tree with depth 7 is 76.21%\n"
     ]
    }
   ],
   "source": [
    "X_train, X_test, y_train, y_test = train_test_split(x, y, test_size= 0.3, random_state=123)\n",
    "depth_list=[1,2,5,7]\n",
    "for depth in depth_list:\n",
    "    gbc = GradientBoostingClassifier(learning_rate=1, n_estimators=50,max_depth=depth,random_state=None)\n",
    "    val_acc = []\n",
    "    kf = KFold(n_splits=5)\n",
    "    for train_index, val_index in kf.split(X_train):\n",
    "        gbc.fit(X_train.iloc[train_index], y_train.iloc[train_index])\n",
    "        val_acc.append(gbc.score(X_train.iloc[val_index],y_train.iloc[val_index]))\n",
    "    accuracy = sum(val_acc)/len(val_acc)*100\n",
    "    print(\"The accuracy of the Gradient boosted tree with depth {0} is {1:.2f}%\".format(depth,accuracy))"
   ]
  },
  {
   "cell_type": "code",
   "execution_count": 297,
   "metadata": {},
   "outputs": [],
   "source": [
    "X_train, X_test, y_train, y_test = train_test_split(x, y, test_size= 0.3, random_state=123)\n",
    "train_acc = []\n",
    "test_acc = []\n",
    "estimators_list=[1,5,10,15,20,25,50,75,100]\n",
    "for i in estimators_list:\n",
    "    gbc = GradientBoostingClassifier(learning_rate=1, n_estimators=i,max_depth=1,random_state=None)\n",
    "    gbc.fit(X_train,y_train)\n",
    "    train_acc.append(gbc.score(X_train,y_train))\n",
    "    test_acc.append(gbc.score(X_test,y_test))"
   ]
  },
  {
   "cell_type": "code",
   "execution_count": 298,
   "metadata": {},
   "outputs": [
    {
     "data": {
      "image/png": "[encoded data removed]",
      "text/plain": [
       "<Figure size 576x432 with 1 Axes>"
      ]
     },
     "metadata": {},
     "output_type": "display_data"
    }
   ],
   "source": [
    "plt.figure(figsize=(8,6))\n",
    "plt.style.use('seaborn')\n",
    "plt.plot(estimators_list, train_acc, color = \"blue\") \n",
    "plt.plot(estimators_list, test_acc, color = \"green\") \n",
    "plt.xlabel(\"Number of estimators\") \n",
    "plt.ylabel(\"Accuracy\")\n",
    "trainlegend = mpatches.Patch(color='blue', label='Train Accuracy')\n",
    "testlegend = mpatches.Patch(color='green', label='Test Accuracy')\n",
    "plt.legend([trainlegend, testlegend], ['Train Accuracy', 'Test Accuracy'])\n",
    "plt.show() "
   ]
  },
  {
   "cell_type": "code",
   "execution_count": 300,
   "metadata": {},
   "outputs": [
    {
     "name": "stdout",
     "output_type": "stream",
     "text": [
      "The accuracy of the Gradient boosted tree with 1 estimators is 73.91%\n",
      "The accuracy of the Gradient boosted tree with 5 estimators is 79.19%\n",
      "The accuracy of the Gradient boosted tree with 10 estimators is 79.41%\n",
      "The accuracy of the Gradient boosted tree with 15 estimators is 80.04%\n",
      "The accuracy of the Gradient boosted tree with 20 estimators is 80.28%\n",
      "The accuracy of the Gradient boosted tree with 50 estimators is 80.32%\n",
      "The accuracy of the Gradient boosted tree with 75 estimators is 80.34%\n",
      "The accuracy of the Gradient boosted tree with 100 estimators is 80.22%\n"
     ]
    }
   ],
   "source": [
    "X_train, X_test, y_train, y_test = train_test_split(x, y, test_size= 0.3, random_state=123)\n",
    "estimators_list=[1,5,10,15,20,50,75,100]\n",
    "for estimators in estimators_list:\n",
    "    gbc = GradientBoostingClassifier(learning_rate=1, n_estimators=estimators,max_depth=1,random_state=None)\n",
    "    val_acc = []\n",
    "    kf = KFold(n_splits=5)\n",
    "    for train_index, val_index in kf.split(X_train):\n",
    "        gbc.fit(X_train.iloc[train_index], y_train.iloc[train_index])\n",
    "        val_acc.append(gbc.score(X_train.iloc[val_index],y_train.iloc[val_index]))\n",
    "    accuracy = sum(val_acc)/len(val_acc)*100\n",
    "    print(\"The accuracy of the Gradient boosted tree with {0} estimators is {1:.2f}%\".format(estimators,accuracy))"
   ]
  },
  {
   "cell_type": "code",
   "execution_count": null,
   "metadata": {},
   "outputs": [],
   "source": []
  }
 ],
 "metadata": {
  "kernelspec": {
   "display_name": "Python 3",
   "language": "python",
   "name": "python3"
  },
  "language_info": {
   "codemirror_mode": {
    "name": "ipython",
    "version": 3
   },
   "file_extension": ".py",
   "mimetype": "text/x-python",
   "name": "python",
   "nbconvert_exporter": "python",
   "pygments_lexer": "ipython3",
   "version": "3.7.3"
  }
 },
 "nbformat": 4,
 "nbformat_minor": 4
}

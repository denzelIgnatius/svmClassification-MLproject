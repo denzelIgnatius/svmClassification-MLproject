{
 "cells": [
  {
   "cell_type": "code",
   "execution_count": 1,
   "metadata": {},
   "outputs": [],
   "source": [
    "import numpy as np\n",
    "import pandas as pd\n",
    "import matplotlib.pyplot as plt\n",
    "import seaborn as sns\n",
    "from sklearn.model_selection import train_test_split"
   ]
  },
  {
   "cell_type": "code",
   "execution_count": 2,
   "metadata": {},
   "outputs": [
    {
     "data": {
      "text/plain": [
       "(241600, 18)"
      ]
     },
     "execution_count": 2,
     "metadata": {},
     "output_type": "execute_result"
    }
   ],
   "source": [
    "dataset = pd.read_csv(\"sgemm_product.csv\")\n",
    "dataset.shape"
   ]
  },
  {
   "cell_type": "code",
   "execution_count": 3,
   "metadata": {},
   "outputs": [],
   "source": [
    "dataset['AverageRun'] = dataset[['Run1 (ms)', 'Run2 (ms)', 'Run3 (ms)', 'Run4 (ms)']].mean(axis = 1)"
   ]
  },
  {
   "cell_type": "code",
   "execution_count": 4,
   "metadata": {},
   "outputs": [
    {
     "data": {
      "text/plain": [
       "count    241600.000000\n",
       "mean        217.571953\n",
       "std         368.750161\n",
       "min          13.317500\n",
       "25%          40.667500\n",
       "50%          69.790000\n",
       "75%         228.387500\n",
       "max        3341.507500\n",
       "Name: AverageRun, dtype: float64"
      ]
     },
     "execution_count": 4,
     "metadata": {},
     "output_type": "execute_result"
    }
   ],
   "source": [
    "dataset['AverageRun'].describe()"
   ]
  },
  {
   "cell_type": "code",
   "execution_count": 6,
   "metadata": {},
   "outputs": [],
   "source": [
    "def scale_columns(dataframe):\n",
    "    dfSubmean = dataframe - dataframe.mean()\n",
    "    return dfSubmean / dataframe.std()"
   ]
  },
  {
   "cell_type": "code",
   "execution_count": 7,
   "metadata": {},
   "outputs": [
    {
     "data": {
      "text/html": [
       "<div>\n",
       "<style scoped>\n",
       "    .dataframe tbody tr th:only-of-type {\n",
       "        vertical-align: middle;\n",
       "    }\n",
       "\n",
       "    .dataframe tbody tr th {\n",
       "        vertical-align: top;\n",
       "    }\n",
       "\n",
       "    .dataframe thead th {\n",
       "        text-align: right;\n",
       "    }\n",
       "</style>\n",
       "<table border=\"1\" class=\"dataframe\">\n",
       "  <thead>\n",
       "    <tr style=\"text-align: right;\">\n",
       "      <th></th>\n",
       "      <th>Intercept</th>\n",
       "      <th>MWG</th>\n",
       "      <th>NWG</th>\n",
       "      <th>KWG</th>\n",
       "      <th>MDIMC</th>\n",
       "      <th>NDIMC</th>\n",
       "      <th>MDIMA</th>\n",
       "      <th>NDIMB</th>\n",
       "      <th>KWI</th>\n",
       "      <th>VWM</th>\n",
       "      <th>VWN</th>\n",
       "      <th>STRM</th>\n",
       "      <th>STRN</th>\n",
       "      <th>SA</th>\n",
       "      <th>SB</th>\n",
       "    </tr>\n",
       "  </thead>\n",
       "  <tbody>\n",
       "    <tr>\n",
       "      <th>0</th>\n",
       "      <td>1</td>\n",
       "      <td>-1.516754</td>\n",
       "      <td>-1.516754</td>\n",
       "      <td>-1.210995</td>\n",
       "      <td>-0.753892</td>\n",
       "      <td>-0.753892</td>\n",
       "      <td>-0.998052</td>\n",
       "      <td>-0.998052</td>\n",
       "      <td>-0.999998</td>\n",
       "      <td>-0.741447</td>\n",
       "      <td>-0.741447</td>\n",
       "      <td>0</td>\n",
       "      <td>0</td>\n",
       "      <td>0</td>\n",
       "      <td>0</td>\n",
       "    </tr>\n",
       "    <tr>\n",
       "      <th>1</th>\n",
       "      <td>1</td>\n",
       "      <td>-1.516754</td>\n",
       "      <td>-1.516754</td>\n",
       "      <td>-1.210995</td>\n",
       "      <td>-0.753892</td>\n",
       "      <td>-0.753892</td>\n",
       "      <td>-0.998052</td>\n",
       "      <td>-0.998052</td>\n",
       "      <td>-0.999998</td>\n",
       "      <td>-0.741447</td>\n",
       "      <td>-0.741447</td>\n",
       "      <td>0</td>\n",
       "      <td>0</td>\n",
       "      <td>0</td>\n",
       "      <td>1</td>\n",
       "    </tr>\n",
       "    <tr>\n",
       "      <th>2</th>\n",
       "      <td>1</td>\n",
       "      <td>-1.516754</td>\n",
       "      <td>-1.516754</td>\n",
       "      <td>-1.210995</td>\n",
       "      <td>-0.753892</td>\n",
       "      <td>-0.753892</td>\n",
       "      <td>-0.998052</td>\n",
       "      <td>-0.998052</td>\n",
       "      <td>-0.999998</td>\n",
       "      <td>-0.741447</td>\n",
       "      <td>-0.741447</td>\n",
       "      <td>0</td>\n",
       "      <td>0</td>\n",
       "      <td>1</td>\n",
       "      <td>0</td>\n",
       "    </tr>\n",
       "    <tr>\n",
       "      <th>3</th>\n",
       "      <td>1</td>\n",
       "      <td>-1.516754</td>\n",
       "      <td>-1.516754</td>\n",
       "      <td>-1.210995</td>\n",
       "      <td>-0.753892</td>\n",
       "      <td>-0.753892</td>\n",
       "      <td>-0.998052</td>\n",
       "      <td>-0.998052</td>\n",
       "      <td>-0.999998</td>\n",
       "      <td>-0.741447</td>\n",
       "      <td>-0.741447</td>\n",
       "      <td>0</td>\n",
       "      <td>0</td>\n",
       "      <td>1</td>\n",
       "      <td>1</td>\n",
       "    </tr>\n",
       "    <tr>\n",
       "      <th>4</th>\n",
       "      <td>1</td>\n",
       "      <td>-1.516754</td>\n",
       "      <td>-1.516754</td>\n",
       "      <td>-1.210995</td>\n",
       "      <td>-0.753892</td>\n",
       "      <td>-0.753892</td>\n",
       "      <td>-0.998052</td>\n",
       "      <td>-0.998052</td>\n",
       "      <td>-0.999998</td>\n",
       "      <td>-0.741447</td>\n",
       "      <td>-0.741447</td>\n",
       "      <td>0</td>\n",
       "      <td>1</td>\n",
       "      <td>0</td>\n",
       "      <td>0</td>\n",
       "    </tr>\n",
       "  </tbody>\n",
       "</table>\n",
       "</div>"
      ],
      "text/plain": [
       "   Intercept       MWG       NWG       KWG     MDIMC     NDIMC     MDIMA  \\\n",
       "0          1 -1.516754 -1.516754 -1.210995 -0.753892 -0.753892 -0.998052   \n",
       "1          1 -1.516754 -1.516754 -1.210995 -0.753892 -0.753892 -0.998052   \n",
       "2          1 -1.516754 -1.516754 -1.210995 -0.753892 -0.753892 -0.998052   \n",
       "3          1 -1.516754 -1.516754 -1.210995 -0.753892 -0.753892 -0.998052   \n",
       "4          1 -1.516754 -1.516754 -1.210995 -0.753892 -0.753892 -0.998052   \n",
       "\n",
       "      NDIMB       KWI       VWM       VWN  STRM  STRN  SA  SB  \n",
       "0 -0.998052 -0.999998 -0.741447 -0.741447     0     0   0   0  \n",
       "1 -0.998052 -0.999998 -0.741447 -0.741447     0     0   0   1  \n",
       "2 -0.998052 -0.999998 -0.741447 -0.741447     0     0   1   0  \n",
       "3 -0.998052 -0.999998 -0.741447 -0.741447     0     0   1   1  \n",
       "4 -0.998052 -0.999998 -0.741447 -0.741447     0     1   0   0  "
      ]
     },
     "execution_count": 7,
     "metadata": {},
     "output_type": "execute_result"
    }
   ],
   "source": [
    "x = scale_columns(dataset[['MWG','NWG','KWG','MDIMC','NDIMC','MDIMA','NDIMB','KWI','VWM','VWN']])\n",
    "x[['STRM','STRN','SA','SB']] = dataset[['STRM','STRN','SA','SB']]\n",
    "x.insert(0,'Intercept', 1)\n",
    "x.head()"
   ]
  },
  {
   "cell_type": "code",
   "execution_count": null,
   "metadata": {},
   "outputs": [],
   "source": []
  }
 ],
 "metadata": {
  "kernelspec": {
   "display_name": "Python 3",
   "language": "python",
   "name": "python3"
  },
  "language_info": {
   "codemirror_mode": {
    "name": "ipython",
    "version": 3
   },
   "file_extension": ".py",
   "mimetype": "text/x-python",
   "name": "python",
   "nbconvert_exporter": "python",
   "pygments_lexer": "ipython3",
   "version": "3.7.3"
  }
 },
 "nbformat": 4,
 "nbformat_minor": 2
}

{
 "cells": [
  {
   "cell_type": "code",
   "execution_count": 1,
   "metadata": {},
   "outputs": [],
   "source": [
    "import numpy as np\n",
    "import pandas as pd\n",
    "import matplotlib.pyplot as plt\n",
    "import seaborn as sns\n",
    "from sklearn.model_selection import train_test_split,KFold \n",
    "from sklearn import svm\n",
    "from sklearn.metrics import mean_squared_error"
   ]
  },
  {
   "cell_type": "code",
   "execution_count": 2,
   "metadata": {},
   "outputs": [
    {
     "data": {
      "text/plain": [
       "(241600, 18)"
      ]
     },
     "execution_count": 2,
     "metadata": {},
     "output_type": "execute_result"
    }
   ],
   "source": [
    "dataset = pd.read_csv(\"sgemm_product.csv\")\n",
    "dataset.shape"
   ]
  },
  {
   "cell_type": "code",
   "execution_count": 3,
   "metadata": {},
   "outputs": [],
   "source": [
    "dataset['AverageRun'] = dataset[['Run1 (ms)', 'Run2 (ms)', 'Run3 (ms)', 'Run4 (ms)']].mean(axis = 1)"
   ]
  },
  {
   "cell_type": "code",
   "execution_count": 4,
   "metadata": {},
   "outputs": [
    {
     "data": {
      "text/plain": [
       "count    241600.000000\n",
       "mean        217.571953\n",
       "std         368.750161\n",
       "min          13.317500\n",
       "25%          40.667500\n",
       "50%          69.790000\n",
       "75%         228.387500\n",
       "max        3341.507500\n",
       "Name: AverageRun, dtype: float64"
      ]
     },
     "execution_count": 4,
     "metadata": {},
     "output_type": "execute_result"
    }
   ],
   "source": [
    "dataset['AverageRun'].describe()"
   ]
  },
  {
   "cell_type": "code",
   "execution_count": 5,
   "metadata": {},
   "outputs": [],
   "source": [
    "def scale_columns(dataframe):\n",
    "    dfSubmean = dataframe - dataframe.mean()\n",
    "    return dfSubmean / dataframe.std()"
   ]
  },
  {
   "cell_type": "code",
   "execution_count": 6,
   "metadata": {},
   "outputs": [
    {
     "data": {
      "text/html": [
       "<div>\n",
       "<style scoped>\n",
       "    .dataframe tbody tr th:only-of-type {\n",
       "        vertical-align: middle;\n",
       "    }\n",
       "\n",
       "    .dataframe tbody tr th {\n",
       "        vertical-align: top;\n",
       "    }\n",
       "\n",
       "    .dataframe thead th {\n",
       "        text-align: right;\n",
       "    }\n",
       "</style>\n",
       "<table border=\"1\" class=\"dataframe\">\n",
       "  <thead>\n",
       "    <tr style=\"text-align: right;\">\n",
       "      <th></th>\n",
       "      <th>MWG</th>\n",
       "      <th>NWG</th>\n",
       "      <th>KWG</th>\n",
       "      <th>MDIMC</th>\n",
       "      <th>NDIMC</th>\n",
       "      <th>MDIMA</th>\n",
       "      <th>NDIMB</th>\n",
       "      <th>KWI</th>\n",
       "      <th>VWM</th>\n",
       "      <th>VWN</th>\n",
       "      <th>STRM</th>\n",
       "      <th>STRN</th>\n",
       "      <th>SA</th>\n",
       "      <th>SB</th>\n",
       "    </tr>\n",
       "  </thead>\n",
       "  <tbody>\n",
       "    <tr>\n",
       "      <th>0</th>\n",
       "      <td>-1.516754</td>\n",
       "      <td>-1.516754</td>\n",
       "      <td>-1.210995</td>\n",
       "      <td>-0.753892</td>\n",
       "      <td>-0.753892</td>\n",
       "      <td>-0.998052</td>\n",
       "      <td>-0.998052</td>\n",
       "      <td>-0.999998</td>\n",
       "      <td>-0.741447</td>\n",
       "      <td>-0.741447</td>\n",
       "      <td>0</td>\n",
       "      <td>0</td>\n",
       "      <td>0</td>\n",
       "      <td>0</td>\n",
       "    </tr>\n",
       "    <tr>\n",
       "      <th>1</th>\n",
       "      <td>-1.516754</td>\n",
       "      <td>-1.516754</td>\n",
       "      <td>-1.210995</td>\n",
       "      <td>-0.753892</td>\n",
       "      <td>-0.753892</td>\n",
       "      <td>-0.998052</td>\n",
       "      <td>-0.998052</td>\n",
       "      <td>-0.999998</td>\n",
       "      <td>-0.741447</td>\n",
       "      <td>-0.741447</td>\n",
       "      <td>0</td>\n",
       "      <td>0</td>\n",
       "      <td>0</td>\n",
       "      <td>1</td>\n",
       "    </tr>\n",
       "    <tr>\n",
       "      <th>2</th>\n",
       "      <td>-1.516754</td>\n",
       "      <td>-1.516754</td>\n",
       "      <td>-1.210995</td>\n",
       "      <td>-0.753892</td>\n",
       "      <td>-0.753892</td>\n",
       "      <td>-0.998052</td>\n",
       "      <td>-0.998052</td>\n",
       "      <td>-0.999998</td>\n",
       "      <td>-0.741447</td>\n",
       "      <td>-0.741447</td>\n",
       "      <td>0</td>\n",
       "      <td>0</td>\n",
       "      <td>1</td>\n",
       "      <td>0</td>\n",
       "    </tr>\n",
       "    <tr>\n",
       "      <th>3</th>\n",
       "      <td>-1.516754</td>\n",
       "      <td>-1.516754</td>\n",
       "      <td>-1.210995</td>\n",
       "      <td>-0.753892</td>\n",
       "      <td>-0.753892</td>\n",
       "      <td>-0.998052</td>\n",
       "      <td>-0.998052</td>\n",
       "      <td>-0.999998</td>\n",
       "      <td>-0.741447</td>\n",
       "      <td>-0.741447</td>\n",
       "      <td>0</td>\n",
       "      <td>0</td>\n",
       "      <td>1</td>\n",
       "      <td>1</td>\n",
       "    </tr>\n",
       "    <tr>\n",
       "      <th>4</th>\n",
       "      <td>-1.516754</td>\n",
       "      <td>-1.516754</td>\n",
       "      <td>-1.210995</td>\n",
       "      <td>-0.753892</td>\n",
       "      <td>-0.753892</td>\n",
       "      <td>-0.998052</td>\n",
       "      <td>-0.998052</td>\n",
       "      <td>-0.999998</td>\n",
       "      <td>-0.741447</td>\n",
       "      <td>-0.741447</td>\n",
       "      <td>0</td>\n",
       "      <td>1</td>\n",
       "      <td>0</td>\n",
       "      <td>0</td>\n",
       "    </tr>\n",
       "  </tbody>\n",
       "</table>\n",
       "</div>"
      ],
      "text/plain": [
       "        MWG       NWG       KWG     MDIMC     NDIMC     MDIMA     NDIMB  \\\n",
       "0 -1.516754 -1.516754 -1.210995 -0.753892 -0.753892 -0.998052 -0.998052   \n",
       "1 -1.516754 -1.516754 -1.210995 -0.753892 -0.753892 -0.998052 -0.998052   \n",
       "2 -1.516754 -1.516754 -1.210995 -0.753892 -0.753892 -0.998052 -0.998052   \n",
       "3 -1.516754 -1.516754 -1.210995 -0.753892 -0.753892 -0.998052 -0.998052   \n",
       "4 -1.516754 -1.516754 -1.210995 -0.753892 -0.753892 -0.998052 -0.998052   \n",
       "\n",
       "        KWI       VWM       VWN  STRM  STRN  SA  SB  \n",
       "0 -0.999998 -0.741447 -0.741447     0     0   0   0  \n",
       "1 -0.999998 -0.741447 -0.741447     0     0   0   1  \n",
       "2 -0.999998 -0.741447 -0.741447     0     0   1   0  \n",
       "3 -0.999998 -0.741447 -0.741447     0     0   1   1  \n",
       "4 -0.999998 -0.741447 -0.741447     0     1   0   0  "
      ]
     },
     "execution_count": 6,
     "metadata": {},
     "output_type": "execute_result"
    }
   ],
   "source": [
    "x = scale_columns(dataset[['MWG','NWG','KWG','MDIMC','NDIMC','MDIMA','NDIMB','KWI','VWM','VWN']])\n",
    "x[['STRM','STRN','SA','SB']] = dataset[['STRM','STRN','SA','SB']]\n",
    "x.head()"
   ]
  },
  {
   "cell_type": "code",
   "execution_count": 7,
   "metadata": {},
   "outputs": [
    {
     "data": {
      "text/plain": [
       "69.79"
      ]
     },
     "execution_count": 7,
     "metadata": {},
     "output_type": "execute_result"
    }
   ],
   "source": [
    "dataset['AverageRun'].median()"
   ]
  },
  {
   "cell_type": "code",
   "execution_count": 8,
   "metadata": {},
   "outputs": [],
   "source": [
    "def isGreaterThanMedian(x, median):\n",
    "    if x > median:\n",
    "        return 1\n",
    "    return 0"
   ]
  },
  {
   "cell_type": "code",
   "execution_count": 9,
   "metadata": {},
   "outputs": [],
   "source": [
    "median = dataset['AverageRun'].median()\n",
    "target = dataset['AverageRun'].apply(isGreaterThanMedian, args = (median,))"
   ]
  },
  {
   "cell_type": "code",
   "execution_count": 10,
   "metadata": {},
   "outputs": [
    {
     "data": {
      "text/plain": [
       "<matplotlib.axes._subplots.AxesSubplot at 0x170f3fc03c8>"
      ]
     },
     "execution_count": 10,
     "metadata": {},
     "output_type": "execute_result"
    },
    {
     "data": {
      "image/png": "[encoded data removed]",
      "text/plain": [
       "<Figure size 432x288 with 1 Axes>"
      ]
     },
     "metadata": {
      "needs_background": "light"
     },
     "output_type": "display_data"
    }
   ],
   "source": [
    "sns.distplot(target)"
   ]
  },
  {
   "cell_type": "code",
   "execution_count": 12,
   "metadata": {},
   "outputs": [],
   "source": [
    "test_size_list = [0.99,0.8,0.7,0.5,0.4,0.3,0.2]\n",
    "training_set_size=[]\n",
    "train_mse=[]\n",
    "test_mse=[]\n",
    "for test_size in test_size_list:\n",
    "    X_train, X_test, y_train, y_test = train_test_split(x, target, test_size= test_size, random_state=123)\n",
    "    linear_svc = svm.SVC(kernel='linear')\n",
    "    linear_svc.fit(X_train,y_train)\n",
    "    y_pred = linear_svc.predict(X_train)\n",
    "    train_mse.append(mean_squared_error(y_train, y_pred))\n",
    "    y_pred = linear_svc.predict(X_test)\n",
    "    test_mse.append(mean_squared_error(y_test, y_pred))\n",
    "    training_set_size.append(len(X_train))"
   ]
  },
  {
   "cell_type": "code",
   "execution_count": 13,
   "metadata": {},
   "outputs": [
    {
     "data": {
      "image/png": "[encoded data removed]",
      "text/plain": [
       "<Figure size 576x432 with 1 Axes>"
      ]
     },
     "metadata": {
      "needs_background": "light"
     },
     "output_type": "display_data"
    }
   ],
   "source": [
    "import matplotlib.patches as mpatches\n",
    "plt.figure(figsize=(8,6))\n",
    "plt.plot(training_set_size, train_mse, color = \"blue\") \n",
    "plt.plot(training_set_size, test_mse, color = \"green\") \n",
    "plt.xlabel(\"Training Set\") \n",
    "plt.ylabel(\"MSE\")\n",
    "trainlegend = mpatches.Patch(color='blue', label='Train MSE')\n",
    "testlegend = mpatches.Patch(color='green', label='Test MSE')\n",
    "plt.legend([trainlegend, testlegend], ['Train MSE', 'Test MSE'])\n",
    "plt.show() "
   ]
  },
  {
   "cell_type": "code",
   "execution_count": 14,
   "metadata": {},
   "outputs": [
    {
     "name": "stdout",
     "output_type": "stream",
     "text": [
      "The accuracy of the linear SVM is 83.21%\n"
     ]
    }
   ],
   "source": [
    "X_train, X_test, y_train, y_test = train_test_split(x, target, test_size= 0.1, random_state=123)\n",
    "linear_svc = svm.SVC(kernel='linear')\n",
    "val_acc = []\n",
    "kf = KFold(n_splits=5)\n",
    "for train_index, val_index in kf.split(X_train):\n",
    "    linear_svc.fit(X_train.iloc[train_index], y_train.iloc[train_index])\n",
    "    val_acc.append(linear_svc.score(X_train.iloc[val_index],y_train.iloc[val_index]))\n",
    "accuracy = sum(val_acc)/len(val_acc)*100\n",
    "print(\"The accuracy of the linear SVM is {0:.2f}%\".format(accuracy))"
   ]
  },
  {
   "cell_type": "code",
   "execution_count": 17,
   "metadata": {},
   "outputs": [],
   "source": [
    "test_size_list = [0.99,0.75,0.5,0.2]\n",
    "training_set_size=[]\n",
    "train_mse=[]\n",
    "test_mse=[]\n",
    "for test_size in test_size_list:\n",
    "    X_train, X_test, y_train, y_test = train_test_split(x, target, test_size= test_size, random_state=123)\n",
    "    sigmoid_svc = svm.SVC(kernel='sigmoid', gamma = 'auto')\n",
    "    sigmoid_svc.fit(X_train,y_train)\n",
    "    y_pred = sigmoid_svc.predict(X_train)\n",
    "    train_mse.append(mean_squared_error(y_train, y_pred))\n",
    "    y_pred = sigmoid_svc.predict(X_test)\n",
    "    test_mse.append(mean_squared_error(y_test, y_pred))\n",
    "    training_set_size.append(len(X_train))"
   ]
  },
  {
   "cell_type": "code",
   "execution_count": 18,
   "metadata": {},
   "outputs": [
    {
     "data": {
      "image/png": "[encoded data removed]",
      "text/plain": [
       "<Figure size 576x432 with 1 Axes>"
      ]
     },
     "metadata": {
      "needs_background": "light"
     },
     "output_type": "display_data"
    }
   ],
   "source": [
    "import matplotlib.patches as mpatches\n",
    "plt.figure(figsize=(8,6))\n",
    "plt.plot(training_set_size, train_mse, color = \"blue\") \n",
    "plt.plot(training_set_size, test_mse, color = \"green\") \n",
    "plt.xlabel(\"Training Set\") \n",
    "plt.ylabel(\"MSE\")\n",
    "trainlegend = mpatches.Patch(color='blue', label='Train MSE')\n",
    "testlegend = mpatches.Patch(color='green', label='Test MSE')\n",
    "plt.legend([trainlegend, testlegend], ['Train MSE', 'Test MSE'])\n",
    "plt.show()"
   ]
  },
  {
   "cell_type": "code",
   "execution_count": null,
   "metadata": {},
   "outputs": [],
   "source": []
  },
  {
   "cell_type": "code",
   "execution_count": null,
   "metadata": {},
   "outputs": [],
   "source": []
  }
 ],
 "metadata": {
  "kernelspec": {
   "display_name": "Python 3",
   "language": "python",
   "name": "python3"
  },
  "language_info": {
   "codemirror_mode": {
    "name": "ipython",
    "version": 3
   },
   "file_extension": ".py",
   "mimetype": "text/x-python",
   "name": "python",
   "nbconvert_exporter": "python",
   "pygments_lexer": "ipython3",
   "version": "3.7.3"
  }
 },
 "nbformat": 4,
 "nbformat_minor": 2
}

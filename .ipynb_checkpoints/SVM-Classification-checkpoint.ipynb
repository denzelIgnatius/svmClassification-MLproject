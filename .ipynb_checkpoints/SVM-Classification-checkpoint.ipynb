{
 "cells": [
  {
   "cell_type": "code",
   "execution_count": 2,
   "metadata": {},
   "outputs": [],
   "source": [
    "import numpy as np\n",
    "import pandas as pd\n",
    "import matplotlib.pyplot as plt\n",
    "import seaborn as sns\n",
    "from sklearn.model_selection import train_test_split,KFold \n",
    "from sklearn import svm\n",
    "from sklearn.metrics import mean_squared_error"
   ]
  },
  {
   "cell_type": "code",
   "execution_count": 3,
   "metadata": {},
   "outputs": [
    {
     "data": {
      "text/plain": [
       "(241600, 18)"
      ]
     },
     "execution_count": 3,
     "metadata": {},
     "output_type": "execute_result"
    }
   ],
   "source": [
    "dataset = pd.read_csv(\"sgemm_product.csv\")\n",
    "dataset.shape"
   ]
  },
  {
   "cell_type": "code",
   "execution_count": 4,
   "metadata": {},
   "outputs": [],
   "source": [
    "dataset['AverageRun'] = dataset[['Run1 (ms)', 'Run2 (ms)', 'Run3 (ms)', 'Run4 (ms)']].mean(axis = 1)"
   ]
  },
  {
   "cell_type": "code",
   "execution_count": 5,
   "metadata": {},
   "outputs": [
    {
     "data": {
      "text/plain": [
       "count    241600.000000\n",
       "mean        217.571953\n",
       "std         368.750161\n",
       "min          13.317500\n",
       "25%          40.667500\n",
       "50%          69.790000\n",
       "75%         228.387500\n",
       "max        3341.507500\n",
       "Name: AverageRun, dtype: float64"
      ]
     },
     "execution_count": 5,
     "metadata": {},
     "output_type": "execute_result"
    }
   ],
   "source": [
    "dataset['AverageRun'].describe()"
   ]
  },
  {
   "cell_type": "code",
   "execution_count": 6,
   "metadata": {},
   "outputs": [],
   "source": [
    "def scale_columns(dataframe):\n",
    "    dfSubmean = dataframe - dataframe.mean()\n",
    "    return dfSubmean / dataframe.std()"
   ]
  },
  {
   "cell_type": "code",
   "execution_count": 8,
   "metadata": {},
   "outputs": [
    {
     "data": {
      "text/html": [
       "<div>\n",
       "<style scoped>\n",
       "    .dataframe tbody tr th:only-of-type {\n",
       "        vertical-align: middle;\n",
       "    }\n",
       "\n",
       "    .dataframe tbody tr th {\n",
       "        vertical-align: top;\n",
       "    }\n",
       "\n",
       "    .dataframe thead th {\n",
       "        text-align: right;\n",
       "    }\n",
       "</style>\n",
       "<table border=\"1\" class=\"dataframe\">\n",
       "  <thead>\n",
       "    <tr style=\"text-align: right;\">\n",
       "      <th></th>\n",
       "      <th>MWG</th>\n",
       "      <th>NWG</th>\n",
       "      <th>KWG</th>\n",
       "      <th>MDIMC</th>\n",
       "      <th>NDIMC</th>\n",
       "      <th>MDIMA</th>\n",
       "      <th>NDIMB</th>\n",
       "      <th>KWI</th>\n",
       "      <th>VWM</th>\n",
       "      <th>VWN</th>\n",
       "      <th>STRM</th>\n",
       "      <th>STRN</th>\n",
       "      <th>SA</th>\n",
       "      <th>SB</th>\n",
       "    </tr>\n",
       "  </thead>\n",
       "  <tbody>\n",
       "    <tr>\n",
       "      <th>0</th>\n",
       "      <td>-1.516754</td>\n",
       "      <td>-1.516754</td>\n",
       "      <td>-1.210995</td>\n",
       "      <td>-0.753892</td>\n",
       "      <td>-0.753892</td>\n",
       "      <td>-0.998052</td>\n",
       "      <td>-0.998052</td>\n",
       "      <td>-0.999998</td>\n",
       "      <td>-0.741447</td>\n",
       "      <td>-0.741447</td>\n",
       "      <td>0</td>\n",
       "      <td>0</td>\n",
       "      <td>0</td>\n",
       "      <td>0</td>\n",
       "    </tr>\n",
       "    <tr>\n",
       "      <th>1</th>\n",
       "      <td>-1.516754</td>\n",
       "      <td>-1.516754</td>\n",
       "      <td>-1.210995</td>\n",
       "      <td>-0.753892</td>\n",
       "      <td>-0.753892</td>\n",
       "      <td>-0.998052</td>\n",
       "      <td>-0.998052</td>\n",
       "      <td>-0.999998</td>\n",
       "      <td>-0.741447</td>\n",
       "      <td>-0.741447</td>\n",
       "      <td>0</td>\n",
       "      <td>0</td>\n",
       "      <td>0</td>\n",
       "      <td>1</td>\n",
       "    </tr>\n",
       "    <tr>\n",
       "      <th>2</th>\n",
       "      <td>-1.516754</td>\n",
       "      <td>-1.516754</td>\n",
       "      <td>-1.210995</td>\n",
       "      <td>-0.753892</td>\n",
       "      <td>-0.753892</td>\n",
       "      <td>-0.998052</td>\n",
       "      <td>-0.998052</td>\n",
       "      <td>-0.999998</td>\n",
       "      <td>-0.741447</td>\n",
       "      <td>-0.741447</td>\n",
       "      <td>0</td>\n",
       "      <td>0</td>\n",
       "      <td>1</td>\n",
       "      <td>0</td>\n",
       "    </tr>\n",
       "    <tr>\n",
       "      <th>3</th>\n",
       "      <td>-1.516754</td>\n",
       "      <td>-1.516754</td>\n",
       "      <td>-1.210995</td>\n",
       "      <td>-0.753892</td>\n",
       "      <td>-0.753892</td>\n",
       "      <td>-0.998052</td>\n",
       "      <td>-0.998052</td>\n",
       "      <td>-0.999998</td>\n",
       "      <td>-0.741447</td>\n",
       "      <td>-0.741447</td>\n",
       "      <td>0</td>\n",
       "      <td>0</td>\n",
       "      <td>1</td>\n",
       "      <td>1</td>\n",
       "    </tr>\n",
       "    <tr>\n",
       "      <th>4</th>\n",
       "      <td>-1.516754</td>\n",
       "      <td>-1.516754</td>\n",
       "      <td>-1.210995</td>\n",
       "      <td>-0.753892</td>\n",
       "      <td>-0.753892</td>\n",
       "      <td>-0.998052</td>\n",
       "      <td>-0.998052</td>\n",
       "      <td>-0.999998</td>\n",
       "      <td>-0.741447</td>\n",
       "      <td>-0.741447</td>\n",
       "      <td>0</td>\n",
       "      <td>1</td>\n",
       "      <td>0</td>\n",
       "      <td>0</td>\n",
       "    </tr>\n",
       "  </tbody>\n",
       "</table>\n",
       "</div>"
      ],
      "text/plain": [
       "        MWG       NWG       KWG     MDIMC     NDIMC     MDIMA     NDIMB  \\\n",
       "0 -1.516754 -1.516754 -1.210995 -0.753892 -0.753892 -0.998052 -0.998052   \n",
       "1 -1.516754 -1.516754 -1.210995 -0.753892 -0.753892 -0.998052 -0.998052   \n",
       "2 -1.516754 -1.516754 -1.210995 -0.753892 -0.753892 -0.998052 -0.998052   \n",
       "3 -1.516754 -1.516754 -1.210995 -0.753892 -0.753892 -0.998052 -0.998052   \n",
       "4 -1.516754 -1.516754 -1.210995 -0.753892 -0.753892 -0.998052 -0.998052   \n",
       "\n",
       "        KWI       VWM       VWN  STRM  STRN  SA  SB  \n",
       "0 -0.999998 -0.741447 -0.741447     0     0   0   0  \n",
       "1 -0.999998 -0.741447 -0.741447     0     0   0   1  \n",
       "2 -0.999998 -0.741447 -0.741447     0     0   1   0  \n",
       "3 -0.999998 -0.741447 -0.741447     0     0   1   1  \n",
       "4 -0.999998 -0.741447 -0.741447     0     1   0   0  "
      ]
     },
     "execution_count": 8,
     "metadata": {},
     "output_type": "execute_result"
    }
   ],
   "source": [
    "x = scale_columns(dataset[['MWG','NWG','KWG','MDIMC','NDIMC','MDIMA','NDIMB','KWI','VWM','VWN']])\n",
    "x[['STRM','STRN','SA','SB']] = dataset[['STRM','STRN','SA','SB']]\n",
    "x.head()"
   ]
  },
  {
   "cell_type": "code",
   "execution_count": 9,
   "metadata": {},
   "outputs": [
    {
     "data": {
      "text/plain": [
       "69.79"
      ]
     },
     "execution_count": 9,
     "metadata": {},
     "output_type": "execute_result"
    }
   ],
   "source": [
    "dataset['AverageRun'].median()"
   ]
  },
  {
   "cell_type": "code",
   "execution_count": 10,
   "metadata": {},
   "outputs": [],
   "source": [
    "def isGreaterThanMedian(x, median):\n",
    "    if x > median:\n",
    "        return 1\n",
    "    return 0"
   ]
  },
  {
   "cell_type": "code",
   "execution_count": 11,
   "metadata": {},
   "outputs": [],
   "source": [
    "median = dataset['AverageRun'].median()\n",
    "target = dataset['AverageRun'].apply(isGreaterThanMedian, args = (median,))"
   ]
  },
  {
   "cell_type": "code",
   "execution_count": 12,
   "metadata": {},
   "outputs": [
    {
     "data": {
      "text/plain": [
       "<matplotlib.axes._subplots.AxesSubplot at 0x1e4c5cf2cc0>"
      ]
     },
     "execution_count": 12,
     "metadata": {},
     "output_type": "execute_result"
    },
    {
     "data": {
      "image/png": "[encoded data removed]",
      "text/plain": [
       "<Figure size 432x288 with 1 Axes>"
      ]
     },
     "metadata": {
      "needs_background": "light"
     },
     "output_type": "display_data"
    }
   ],
   "source": [
    "sns.distplot(target)"
   ]
  },
  {
   "cell_type": "code",
   "execution_count": 13,
   "metadata": {},
   "outputs": [],
   "source": [
    "X_train, X_test, y_train, y_test = train_test_split(x, target, test_size= 0.30, random_state=123)"
   ]
  },
  {
   "cell_type": "code",
   "execution_count": 14,
   "metadata": {},
   "outputs": [],
   "source": [
    "linear_svc = svm.SVC(kernel='linear')"
   ]
  },
  {
   "cell_type": "code",
   "execution_count": 15,
   "metadata": {},
   "outputs": [
    {
     "data": {
      "text/plain": [
       "(169120,)"
      ]
     },
     "execution_count": 15,
     "metadata": {},
     "output_type": "execute_result"
    }
   ],
   "source": [
    "y_train.shape"
   ]
  },
  {
   "cell_type": "code",
   "execution_count": 16,
   "metadata": {},
   "outputs": [],
   "source": [
    "val_mse = []\n",
    "kf = KFold(n_splits=5)\n",
    "for train_index, val_index in kf.split(X_train):\n",
    "    linear_svc.fit(X_train.iloc[train_index], y_train.iloc[train_index])\n",
    "    y_pred = linear_svc.predict(X_train.iloc[val_index])\n",
    "    val_mse.append(mean_squared_error(y_train.iloc[val_index], y_pred))"
   ]
  },
  {
   "cell_type": "code",
   "execution_count": 17,
   "metadata": {},
   "outputs": [
    {
     "name": "stdout",
     "output_type": "stream",
     "text": [
      "[0.17008632923368022, 0.16718897824030274, 0.16358207190160834, 0.16857852412488175, 0.16727767265846735]\n"
     ]
    }
   ],
   "source": [
    "print(val_mse)"
   ]
  },
  {
   "cell_type": "code",
   "execution_count": 18,
   "metadata": {},
   "outputs": [
    {
     "data": {
      "text/plain": [
       "0.16734271523178806"
      ]
     },
     "execution_count": 18,
     "metadata": {},
     "output_type": "execute_result"
    }
   ],
   "source": [
    "sum(val_mse)/len(val_mse)"
   ]
  },
  {
   "cell_type": "code",
   "execution_count": 19,
   "metadata": {},
   "outputs": [
    {
     "data": {
      "text/plain": [
       "0.3380676442762535"
      ]
     },
     "execution_count": 19,
     "metadata": {},
     "output_type": "execute_result"
    }
   ],
   "source": [
    "sigmoid_svc = svm.SVC(kernel='sigmoid', gamma = 'auto')\n",
    "sig_val_mse = []\n",
    "kf = KFold(n_splits=5)\n",
    "for train_index, val_index in kf.split(X_train):\n",
    "    sigmoid_svc.fit(X_train.iloc[train_index], y_train.iloc[train_index])\n",
    "    y_pred = sigmoid_svc.predict(X_train.iloc[val_index])\n",
    "    sig_val_mse.append(mean_squared_error(y_train.iloc[val_index], y_pred))\n",
    "sum(sig_val_mse)/len(sig_val_mse)"
   ]
  },
  {
   "cell_type": "code",
   "execution_count": 21,
   "metadata": {},
   "outputs": [
    {
     "data": {
      "text/plain": [
       "0.04396286660359508"
      ]
     },
     "execution_count": 21,
     "metadata": {},
     "output_type": "execute_result"
    }
   ],
   "source": [
    "rbf_svc = svm.SVC(kernel='rbf', gamma = 'auto')\n",
    "rbf_val_mse = []\n",
    "kf = KFold(n_splits=5)\n",
    "for train_index, val_index in kf.split(X_train):\n",
    "    rbf_svc.fit(X_train.iloc[train_index], y_train.iloc[train_index])\n",
    "    y_pred = rbf_svc.predict(X_train.iloc[val_index])\n",
    "    rbf_val_mse.append(mean_squared_error(y_train.iloc[val_index], y_pred))\n",
    "sum(rbf_val_mse)/len(rbf_val_mse)"
   ]
  },
  {
   "cell_type": "code",
   "execution_count": 20,
   "metadata": {},
   "outputs": [
    {
     "name": "stdout",
     "output_type": "stream",
     "text": [
      "Max depth 2 training score is 0.699296357615894 and test score is 0.6964128035320089\n",
      "Max depth 6 training score is 0.8633751182592242 and test score is 0.8613272626931567\n",
      "Max depth 12 training score is 0.9746807000946074 and test score is 0.9713438189845475\n",
      "Max depth 18 training score is 0.9989593188268685 and test score is 0.9905491169977925\n",
      "Max depth 22 training score is 1.0 and test score is 0.9909216335540839\n",
      "Max depth None training score is 1.0 and test score is 0.9910596026490066\n"
     ]
    }
   ],
   "source": [
    "from sklearn.tree import DecisionTreeClassifier\n",
    "depth_list=[2,6,12,18,22,None]\n",
    "for i in depth_list:\n",
    "    dtree = DecisionTreeClassifier(max_depth = i)\n",
    "    dtree.fit(X_train,y_train)\n",
    "    y_pred = dtree.predict(X_test)\n",
    "    train_score = dtree.score(X_train,y_train)\n",
    "    test_score = dtree.score(X_test,y_test)\n",
    "    print(\"Max depth \" + str(i) + \" training score is \" + train_score.astype(str) \n",
    "      + \" and test score is \" + test_score.astype(str))"
   ]
  },
  {
   "cell_type": "code",
   "execution_count": 22,
   "metadata": {},
   "outputs": [
    {
     "name": "stdout",
     "output_type": "stream",
     "text": [
      "Max depth 2 training score is 0.9238114947965941 and test score is 0.9198399558498896\n",
      "Max depth 4 training score is 0.9732379375591296 and test score is 0.9711920529801324\n",
      "Max depth 8 training score is 0.99860454115421 and test score is 0.9913907284768212\n",
      "Max depth 12 training score is 0.9999408703878903 and test score is 0.9929773730684327\n",
      "Max depth None training score is 1.0 and test score is 0.990880242825607\n"
     ]
    }
   ],
   "source": [
    "from sklearn.ensemble import GradientBoostingClassifier\n",
    "depth_list=[2,4,8,12,None]\n",
    "for i in depth_list:\n",
    "    gbc = GradientBoostingClassifier(learning_rate=1, n_estimators=50,max_depth=i,random_state=None)\n",
    "    gbc.fit(X_train,y_train)\n",
    "    train_score = gbc.score(X_train,y_train)\n",
    "    test_score = gbc.score(X_test,y_test)\n",
    "    print(\"Max depth \" + str(i) + \" training score is \" + train_score.astype(str) \n",
    "          + \" and test score is \" + test_score.astype(str))"
   ]
  },
  {
   "cell_type": "code",
   "execution_count": 23,
   "metadata": {},
   "outputs": [
    {
     "name": "stdout",
     "output_type": "stream",
     "text": [
      "Number of estimators 10 training score is 0.8648710974456008 and test score is 0.8612582781456953\n",
      "Number of estimators 25 training score is 0.9055227057710501 and test score is 0.9014486754966887\n",
      "Number of estimators 50 training score is 0.9238114947965941 and test score is 0.9198399558498896\n",
      "Number of estimators 75 training score is 0.9341532639545884 and test score is 0.930546357615894\n",
      "Number of estimators 100 training score is 0.9412724692526017 and test score is 0.937900110375276\n"
     ]
    }
   ],
   "source": [
    "from sklearn.ensemble import GradientBoostingClassifier\n",
    "estimators_list=[10,25,50,75,100]\n",
    "for i in estimators_list:\n",
    "    gbc = GradientBoostingClassifier(learning_rate=1, n_estimators=i,max_depth=2,random_state=None)\n",
    "    gbc.fit(X_train,y_train)\n",
    "    train_score = gbc.score(X_train,y_train)\n",
    "    test_score = gbc.score(X_test,y_test)\n",
    "    print(\"Number of estimators \" + str(i) + \" training score is \" + train_score.astype(str) \n",
    "          + \" and test score is \" + test_score.astype(str))"
   ]
  },
  {
   "cell_type": "code",
   "execution_count": 24,
   "metadata": {},
   "outputs": [
    {
     "name": "stdout",
     "output_type": "stream",
     "text": [
      "Learning rate 0.05 training score is 0.847930463576159 and test score is 0.8429221854304636\n",
      "Learning rate 0.1 training score is 0.874314096499527 and test score is 0.8685568432671081\n",
      "Learning rate 0.25 training score is 0.8927270577105014 and test score is 0.8883967991169978\n",
      "Learning rate 0.5 training score is 0.9239534058656576 and test score is 0.9204056291390729\n",
      "Learning rate 0.75 training score is 0.935424550614948 and test score is 0.9310430463576159\n",
      "Learning rate 1 training score is 0.9412724692526017 and test score is 0.937900110375276\n"
     ]
    }
   ],
   "source": [
    "from sklearn.ensemble import GradientBoostingClassifier\n",
    "learning_list=[0.05,0.1,0.25,0.5,0.75,1]\n",
    "for i in learning_list:\n",
    "    gbc = GradientBoostingClassifier(learning_rate=i, n_estimators=100,max_depth=2,random_state=None)\n",
    "    gbc.fit(X_train,y_train)\n",
    "    train_score = gbc.score(X_train,y_train)\n",
    "    test_score = gbc.score(X_test,y_test)\n",
    "    print(\"Learning rate \" + str(i) + \" training score is \" + train_score.astype(str) \n",
    "          + \" and test score is \" + test_score.astype(str))"
   ]
  },
  {
   "cell_type": "code",
   "execution_count": null,
   "metadata": {},
   "outputs": [],
   "source": []
  }
 ],
 "metadata": {
  "kernelspec": {
   "display_name": "Python 3",
   "language": "python",
   "name": "python3"
  },
  "language_info": {
   "codemirror_mode": {
    "name": "ipython",
    "version": 3
   },
   "file_extension": ".py",
   "mimetype": "text/x-python",
   "name": "python",
   "nbconvert_exporter": "python",
   "pygments_lexer": "ipython3",
   "version": "3.7.3"
  }
 },
 "nbformat": 4,
 "nbformat_minor": 2
}
